{
 "cells": [
  {
   "cell_type": "code",
   "execution_count": 12,
   "id": "8eda9e67",
   "metadata": {},
   "outputs": [],
   "source": [
    "from datetime import datetime\n",
    "from pydantic import ValidationError\n",
    "import json\n",
    "import httpx\n",
    "from pathlib import Path\n",
    "import tramitacao.camara.models as cm\n",
    "import tramitacao.senado.models as sm\n",
    "import time\n",
    "\n",
    "CAMARA_BASE_URL = \"https://dadosabertos.camara.leg.br/api/v2/\""
   ]
  },
  {
   "cell_type": "code",
   "execution_count": 13,
   "id": "76821511",
   "metadata": {},
   "outputs": [],
   "source": [
    "with open(\"./data/camara/proposicoes_2020_2025.json\") as f:\n",
    "    house_props = cm.Proposicoes.model_validate_json(f.read())\n",
    "    \n",
    "with open(\"checked.json\", \"r\") as f:\n",
    "    checked = set(json.load(f))"
   ]
  },
  {
   "cell_type": "code",
   "execution_count": null,
   "id": "55a7ddb8",
   "metadata": {},
   "outputs": [],
   "source": [
    "def get_with_pagination(url: str):\n",
    "    current_url = url\n",
    "    items = []\n",
    "    while True:\n",
    "        response = httpx.get(current_url)\n",
    "        response.raise_for_status()\n",
    "        data = response.json()\n",
    "        items.extend(data.get(\"dados\", []))\n",
    "        links = data.get(\"links\", [])\n",
    "        for link in links:\n",
    "            if link.get('rel', '') == 'next':\n",
    "                current_url = link['href']\n",
    "                print(current_url)\n",
    "                break\n",
    "        else:\n",
    "            break\n",
    "    return items\n",
    "        \n",
    "\n",
    "    "
   ]
  },
  {
   "cell_type": "code",
   "execution_count": null,
   "id": "54cfb731",
   "metadata": {},
   "outputs": [
    {
     "name": "stdout",
     "output_type": "stream",
     "text": [
      "2001/116212\n",
      "Saving.\n",
      "2434/116212\r"
     ]
    }
   ],
   "source": [
    "n_props = len(house_props.items)\n",
    "for i, prop in enumerate(house_props.items):\n",
    "    print(f\"{i + 1}/{n_props}\", end=\"\\r\")\n",
    "    if prop.id in checked:\n",
    "        continue\n",
    "    max_retries = 3\n",
    "    for retry in range(max_retries):\n",
    "        try:\n",
    "            author_data = get_with_pagination(f\"{CAMARA_BASE_URL}proposicoes/{prop.id}/autores\")\n",
    "            break\n",
    "        except Exception as e:\n",
    "            print(f\"\\nGot exception: {e}. Retrying.\")\n",
    "            time.sleep(1)\n",
    "    else:\n",
    "        print(\"Max retries.\")\n",
    "        break\n",
    "    try:\n",
    "        authors = [cm.Autor.model_validate(item) for item in author_data]\n",
    "    except ValidationError as e:\n",
    "        print(e)\n",
    "        raise\n",
    "    prop.autores[:] = authors\n",
    "    checked.add(prop.id)\n",
    "    with open(\"checked.json\", \"w\") as f:\n",
    "        json.dump(list(checked), f)\n",
    "    \n",
    "    if i % 1000 == 0:\n",
    "        print(\"\\nSaving.\")\n",
    "        with open(\"./data/camara/proposicoes_2020_2025.json\", \"w\") as f:\n",
    "            f.write(house_props.model_dump_json())\n",
    "    "
   ]
  },
  {
   "cell_type": "code",
   "execution_count": 15,
   "id": "19302cc5",
   "metadata": {},
   "outputs": [
    {
     "data": {
      "text/plain": [
       "618609"
      ]
     },
     "execution_count": 15,
     "metadata": {},
     "output_type": "execute_result"
    }
   ],
   "source": [
    "house_props.items[0].id"
   ]
  },
  {
   "cell_type": "code",
   "execution_count": 16,
   "id": "33131319",
   "metadata": {},
   "outputs": [],
   "source": [
    "items = get_with_pagination(f\"{CAMARA_BASE_URL}proposicoes/618609/autores\")"
   ]
  },
  {
   "cell_type": "code",
   "execution_count": 19,
   "id": "b45e8072",
   "metadata": {},
   "outputs": [
    {
     "data": {
      "text/plain": [
       "Autor(uri='https://dadosabertos.camara.leg.br/api/v2/deputados/160673', nome='Giovani Cherini', codTipo=10000, tipo='Deputado(a)', ordemAssinatura=1, proponente=1)"
      ]
     },
     "execution_count": 19,
     "metadata": {},
     "output_type": "execute_result"
    }
   ],
   "source": [
    "cm.Autor.model_validate(items[0])"
   ]
  },
  {
   "cell_type": "code",
   "execution_count": null,
   "id": "1acc4a4b",
   "metadata": {},
   "outputs": [],
   "source": []
  }
 ],
 "metadata": {
  "kernelspec": {
   "display_name": "venv",
   "language": "python",
   "name": "python3"
  },
  "language_info": {
   "codemirror_mode": {
    "name": "ipython",
    "version": 3
   },
   "file_extension": ".py",
   "mimetype": "text/x-python",
   "name": "python",
   "nbconvert_exporter": "python",
   "pygments_lexer": "ipython3",
   "version": "3.13.5"
  }
 },
 "nbformat": 4,
 "nbformat_minor": 5
}
